{
  "cells": [
    {
      "cell_type": "markdown",
      "metadata": {
        "id": "view-in-github",
        "colab_type": "text"
      },
      "source": [
        "<a href=\"https://colab.research.google.com/github/kiarash1015/NLP-Repos/blob/main/Welcome_to_colab.ipynb\" target=\"_parent\"><img src=\"https://colab.research.google.com/assets/colab-badge.svg\" alt=\"Open In Colab\"/></a>"
      ]
    },
    {
      "cell_type": "code",
      "source": [
        "import nltk\n",
        "nltk.download('wordnet')\n"
      ],
      "metadata": {
        "id": "cG0m6fXTwEAA",
        "outputId": "95cb364a-99f0-4ccd-a7af-47339ec8d80c",
        "colab": {
          "base_uri": "https://localhost:8080/"
        }
      },
      "execution_count": null,
      "outputs": [
        {
          "output_type": "stream",
          "name": "stderr",
          "text": [
            "[nltk_data] Downloading package wordnet to /root/nltk_data...\n"
          ]
        },
        {
          "output_type": "execute_result",
          "data": {
            "text/plain": [
              "True"
            ]
          },
          "metadata": {},
          "execution_count": 1
        }
      ]
    },
    {
      "cell_type": "code",
      "source": [
        "from nltk.corpus import wordnet\n",
        "syn = wordnet.synsets(\"happy\")\n",
        "print(\"Happy wordnet:\\n\")\n",
        "print(syn[0].name())\n",
        "print(syn[0].lemmas())\n",
        "print(syn[0].definition())\n",
        "print(syn[0].examples(),\"\\n#######################\")\n",
        "\n",
        "######################################\n",
        "synonyms=[]\n",
        "antonyms = []\n",
        "for s in wordnet.synsets('courage'):\n",
        "  for l in s.lemmas():\n",
        "    synonyms.append(l.name())\n",
        "    if l.antonyms():\n",
        "      antonyms.append(l.antonyms()[0].name)\n",
        "\n",
        "print(\"synonyms of courage = \",set(synonyms))\n",
        "print(\"antonyms of courage = \",set(antonyms))\n"
      ],
      "metadata": {
        "id": "8It0swm9wWrC",
        "outputId": "d044d64e-4f5a-4ba2-bf11-b3a42e44d95b",
        "colab": {
          "base_uri": "https://localhost:8080/"
        }
      },
      "execution_count": null,
      "outputs": [
        {
          "output_type": "stream",
          "name": "stdout",
          "text": [
            "Happy wordnet:\n",
            "\n",
            "happy.a.01\n",
            "[Lemma('happy.a.01.happy')]\n",
            "enjoying or showing or marked by joy or pleasure\n",
            "['a happy smile', 'spent many happy days on the beach', 'a happy marriage'] \n",
            "#######################\n",
            "synonyms of courage =  {'courage', 'bravery', 'braveness', 'courageousness'}\n",
            "antonyms of courage =  {<bound method Lemma.name of Lemma('cowardice.n.01.cowardice')>}\n"
          ]
        }
      ]
    }
  ],
  "metadata": {
    "colab": {
      "name": "Welcome To Colab",
      "toc_visible": true,
      "provenance": [],
      "include_colab_link": true
    },
    "kernelspec": {
      "display_name": "Python 3",
      "name": "python3"
    }
  },
  "nbformat": 4,
  "nbformat_minor": 0
}